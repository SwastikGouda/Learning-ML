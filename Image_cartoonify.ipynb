{
  "nbformat": 4,
  "nbformat_minor": 0,
  "metadata": {
    "colab": {
      "provenance": []
    },
    "kernelspec": {
      "name": "python3",
      "display_name": "Python 3"
    },
    "language_info": {
      "name": "python"
    }
  },
  "cells": [
    {
      "cell_type": "code",
      "execution_count": null,
      "metadata": {
        "id": "zfL7sj06Bw__"
      },
      "outputs": [],
      "source": [
        "import cv2 #for image processing\n",
        "import easygui #to open the filebox\n",
        "import numpy as np #to store image\n",
        "import imageio #to read image stored at particular path\n",
        "import sys\n",
        "import matplotlib.pyplot as plt\n",
        "import os\n",
        "import tkinter as tk\n",
        "from tkinter import filedialog\n",
        "from tkinter import *\n",
        "from PIL import ImageTk, Image"
      ]
    },
    {
      "cell_type": "code",
      "source": [
        "#IMPORTING IMAGE\n",
        "originalmage = cv2.imread('WhatsApp Image 2023-04-06 at 2.17.00 PM.jpeg')\n",
        "originalmage = cv2.cvtColor(originalmage, cv2.COLOR_BGR2RGB)\n",
        "ReSized1 = cv2.resize(originalmage, (960, 540))\n",
        "\n",
        "#GRAY SCALE\n",
        "grayScaleImage = cv2.cvtColor(originalmage, cv2.COLOR_BGR2GRAY)\n",
        "ReSized2 = cv2.resize(grayScaleImage, (960, 540))\n",
        "\n",
        "#SMOOTHENING\n",
        "smoothGrayScale = cv2.medianBlur(grayScaleImage, 5)\n",
        "ReSized3 = cv2.resize(smoothGrayScale, (960, 540))\n",
        "\n",
        "#Retreiving Edges of Image\n",
        "getEdge = cv2.adaptiveThreshold(smoothGrayScale, 255, cv2.ADAPTIVE_THRESH_MEAN_C, cv2.THRESH_BINARY, 9, 9)\n",
        "ReSized4 = cv2.resize(getEdge, (960, 540))\n",
        "\n",
        "#Creating Mask Image\n",
        "colorImage = cv2.bilateralFilter(originalmage, 9, 300, 300)\n",
        "ReSized5 = cv2.resize(colorImage, (960, 540))\n",
        "\n",
        "#Masking\n",
        "cartoonImage = cv2.bitwise_and(colorImage, colorImage, mask=getEdge)\n",
        "ReSized6 = cv2.resize(cartoonImage, (960, 540))"
      ],
      "metadata": {
        "id": "hcJGQtqpRnuI"
      },
      "execution_count": null,
      "outputs": []
    },
    {
      "cell_type": "code",
      "source": [
        "varun=Image.fromarray(ReSized6)"
      ],
      "metadata": {
        "id": "KZvrt1TnSRt_"
      },
      "execution_count": null,
      "outputs": []
    },
    {
      "cell_type": "code",
      "source": [
        "prakharsh=Image.fromarray(ReSized6)"
      ],
      "metadata": {
        "id": "9XISyK7iSg8o"
      },
      "execution_count": null,
      "outputs": []
    },
    {
      "cell_type": "code",
      "source": [],
      "metadata": {
        "id": "O5q4jb95wIH8"
      },
      "execution_count": null,
      "outputs": []
    },
    {
      "cell_type": "code",
      "source": [],
      "metadata": {
        "id": "f6T82mHzwzM-"
      },
      "execution_count": null,
      "outputs": []
    }
  ]
}